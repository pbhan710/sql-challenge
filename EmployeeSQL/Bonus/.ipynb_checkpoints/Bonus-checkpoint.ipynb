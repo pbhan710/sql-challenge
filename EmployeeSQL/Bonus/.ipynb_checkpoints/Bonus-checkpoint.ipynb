{
 "cells": [
  {
   "cell_type": "markdown",
   "id": "a14b8aea",
   "metadata": {},
   "source": [
    "# Background\n",
    "As you examine the data, you begin to suspect that the dataset is fake. Maybe your boss gave you spurious data in order to test the data engineering skills of a new employee? To confirm your hunch, you decide to create a visualization of the data to present to your boss. Follow these steps:"
   ]
  },
  {
   "cell_type": "markdown",
   "id": "a7d0b298",
   "metadata": {},
   "source": [
    "## 1. Import the SQL database into Pandas.\n",
    "This step may require some research. Feel free to use the following code to get started. Be sure to make any necessary modifications for your username, password, host, port, and database name:\n",
    "\n",
    "`from sqlalchemy import create_engine\n",
    "engine = create_engine('postgresql://localhost:5432/<your_db_name>')\n",
    "connection = engine.connect()`"
   ]
  },
  {
   "cell_type": "code",
   "execution_count": 1,
   "id": "c5183cff",
   "metadata": {},
   "outputs": [],
   "source": [
    "# Import dependencies\n",
    "import os\n",
    "from dotenv import load_dotenv\n",
    "from sqlalchemy import create_engine\n",
    "import pandas as pd\n",
    "import matplotlib.pyplot as plt"
   ]
  },
  {
   "cell_type": "code",
   "execution_count": 2,
   "id": "2588436d",
   "metadata": {},
   "outputs": [],
   "source": [
    "# Create engine & connection to Postgres database.\n",
    "load_dotenv()\n",
    "\n",
    "db_url = os.environ.get('database_url')\n",
    "engine = create_engine(db_url)\n",
    "conn = engine.connect()"
   ]
  },
  {
   "cell_type": "code",
   "execution_count": 51,
   "id": "82d311be",
   "metadata": {},
   "outputs": [],
   "source": [
    "# Store 'employees' table into DataFrame.\n",
    "emp_df = pd.read_sql_table(\n",
    "    'employees', \n",
    "    conn,\n",
    ")\n",
    "emp_df = emp_df[['emp_no', 'emp_title']]\n",
    "\n",
    "# Store 'titles' table into DataFrame.\n",
    "ttl_df = pd.read_sql_table(\n",
    "    'titles', \n",
    "    conn\n",
    ")\n",
    "\n",
    "# Store 'salaries' table into DataFrame.\n",
    "sal_df = pd.read_sql_table(\n",
    "    'salaries', \n",
    "    conn\n",
    ")"
   ]
  },
  {
   "cell_type": "code",
   "execution_count": 7,
   "id": "574c7203",
   "metadata": {},
   "outputs": [
    {
     "data": {
      "text/html": [
       "<div>\n",
       "<style scoped>\n",
       "    .dataframe tbody tr th:only-of-type {\n",
       "        vertical-align: middle;\n",
       "    }\n",
       "\n",
       "    .dataframe tbody tr th {\n",
       "        vertical-align: top;\n",
       "    }\n",
       "\n",
       "    .dataframe thead th {\n",
       "        text-align: right;\n",
       "    }\n",
       "</style>\n",
       "<table border=\"1\" class=\"dataframe\">\n",
       "  <thead>\n",
       "    <tr style=\"text-align: right;\">\n",
       "      <th></th>\n",
       "      <th>emp_no</th>\n",
       "      <th>emp_title</th>\n",
       "      <th>title_id</th>\n",
       "      <th>title</th>\n",
       "      <th>salary</th>\n",
       "    </tr>\n",
       "  </thead>\n",
       "  <tbody>\n",
       "    <tr>\n",
       "      <th>0</th>\n",
       "      <td>74502</td>\n",
       "      <td>s0001</td>\n",
       "      <td>s0001</td>\n",
       "      <td>Staff</td>\n",
       "      <td>$40,000.00</td>\n",
       "    </tr>\n",
       "    <tr>\n",
       "      <th>1</th>\n",
       "      <td>473302</td>\n",
       "      <td>s0001</td>\n",
       "      <td>s0001</td>\n",
       "      <td>Staff</td>\n",
       "      <td>$40,000.00</td>\n",
       "    </tr>\n",
       "    <tr>\n",
       "      <th>2</th>\n",
       "      <td>475053</td>\n",
       "      <td>e0002</td>\n",
       "      <td>e0002</td>\n",
       "      <td>Engineer</td>\n",
       "      <td>$53,422.00</td>\n",
       "    </tr>\n",
       "    <tr>\n",
       "      <th>3</th>\n",
       "      <td>57444</td>\n",
       "      <td>e0002</td>\n",
       "      <td>e0002</td>\n",
       "      <td>Engineer</td>\n",
       "      <td>$48,973.00</td>\n",
       "    </tr>\n",
       "    <tr>\n",
       "      <th>4</th>\n",
       "      <td>421786</td>\n",
       "      <td>s0001</td>\n",
       "      <td>s0001</td>\n",
       "      <td>Staff</td>\n",
       "      <td>$40,000.00</td>\n",
       "    </tr>\n",
       "  </tbody>\n",
       "</table>\n",
       "</div>"
      ],
      "text/plain": [
       "   emp_no emp_title title_id     title      salary\n",
       "0   74502     s0001    s0001     Staff  $40,000.00\n",
       "1  473302     s0001    s0001     Staff  $40,000.00\n",
       "2  475053     e0002    e0002  Engineer  $53,422.00\n",
       "3   57444     e0002    e0002  Engineer  $48,973.00\n",
       "4  421786     s0001    s0001     Staff  $40,000.00"
      ]
     },
     "execution_count": 7,
     "metadata": {},
     "output_type": "execute_result"
    }
   ],
   "source": [
    "# Merge 'employees', 'titles', and 'salaries' tables into one.\n",
    "emp_df = emp_df.merge(\n",
    "    ttl_df,\n",
    "    how = 'left',\n",
    "    left_on = 'emp_title',\n",
    "    right_on = 'title_id'\n",
    ")\n",
    "\n",
    "mrg_df = pd.merge(\n",
    "    emp_df,\n",
    "    sal_df,\n",
    "    how = 'left',\n",
    "    on = 'emp_no'\n",
    ")\n",
    "\n",
    "df = mrg_df[['emp_no', 'title', 'salary']]"
   ]
  },
  {
   "cell_type": "code",
   "execution_count": 9,
   "id": "011285d0",
   "metadata": {
    "scrolled": true
   },
   "outputs": [
    {
     "name": "stderr",
     "output_type": "stream",
     "text": [
      "C:\\Users\\pbhan\\AppData\\Local\\Temp/ipykernel_6316/3557115942.py:1: SettingWithCopyWarning: \n",
      "A value is trying to be set on a copy of a slice from a DataFrame.\n",
      "Try using .loc[row_indexer,col_indexer] = value instead\n",
      "\n",
      "See the caveats in the documentation: https://pandas.pydata.org/pandas-docs/stable/user_guide/indexing.html#returning-a-view-versus-a-copy\n",
      "  df['salary'] = df['salary'].replace('\\$', '', regex = True).replace(',', '', regex = True).astype(float)\n"
     ]
    }
   ],
   "source": [
    "# Change 'salary' to float.\n",
    "df['salary'] = df['salary'].replace('\\$', '', regex = True).replace(',', '', regex = True).astype(float)"
   ]
  },
  {
   "cell_type": "markdown",
   "id": "48c37159",
   "metadata": {},
   "source": [
    "## 2) Create a histogram to visualize the most common salary ranges for employees."
   ]
  },
  {
   "cell_type": "code",
   "execution_count": 22,
   "id": "3566f25b",
   "metadata": {},
   "outputs": [
    {
     "data": {
      "image/png": "[encoded data removed]",
      "text/plain": [
       "<Figure size 432x288 with 1 Axes>"
      ]
     },
     "metadata": {
      "needs_background": "light"
     },
     "output_type": "display_data"
    }
   ],
   "source": [
    "plt.hist(\n",
    "    df['salary'],\n",
    "    bins = [40000, 59999.99, 79999.99, 99999.99, 119999.99, 130000]\n",
    ")\n",
    "\n",
    "plt.title(\"Employee Salary Distribution\")\n",
    "plt.xlabel('Salary Range')\n",
    "plt.ylabel('# of Employees')\n",
    "plt.show()"
   ]
  },
  {
   "cell_type": "markdown",
   "id": "cfab7eef",
   "metadata": {},
   "source": [
    "## 3) Create a bar chart of average salary by title."
   ]
  },
  {
   "cell_type": "code",
   "execution_count": 29,
   "id": "7db2802c",
   "metadata": {},
   "outputs": [
    {
     "data": {
      "text/html": [
       "<div>\n",
       "<style scoped>\n",
       "    .dataframe tbody tr th:only-of-type {\n",
       "        vertical-align: middle;\n",
       "    }\n",
       "\n",
       "    .dataframe tbody tr th {\n",
       "        vertical-align: top;\n",
       "    }\n",
       "\n",
       "    .dataframe thead th {\n",
       "        text-align: right;\n",
       "    }\n",
       "</style>\n",
       "<table border=\"1\" class=\"dataframe\">\n",
       "  <thead>\n",
       "    <tr style=\"text-align: right;\">\n",
       "      <th></th>\n",
       "      <th>title</th>\n",
       "      <th>salary</th>\n",
       "    </tr>\n",
       "  </thead>\n",
       "  <tbody>\n",
       "    <tr>\n",
       "      <th>0</th>\n",
       "      <td>Assistant Engineer</td>\n",
       "      <td>48564.434447</td>\n",
       "    </tr>\n",
       "    <tr>\n",
       "      <th>1</th>\n",
       "      <td>Engineer</td>\n",
       "      <td>48535.336511</td>\n",
       "    </tr>\n",
       "    <tr>\n",
       "      <th>2</th>\n",
       "      <td>Manager</td>\n",
       "      <td>51531.041667</td>\n",
       "    </tr>\n",
       "    <tr>\n",
       "      <th>3</th>\n",
       "      <td>Senior Engineer</td>\n",
       "      <td>48506.799871</td>\n",
       "    </tr>\n",
       "    <tr>\n",
       "      <th>4</th>\n",
       "      <td>Senior Staff</td>\n",
       "      <td>58550.172704</td>\n",
       "    </tr>\n",
       "    <tr>\n",
       "      <th>5</th>\n",
       "      <td>Staff</td>\n",
       "      <td>58465.382850</td>\n",
       "    </tr>\n",
       "    <tr>\n",
       "      <th>6</th>\n",
       "      <td>Technique Leader</td>\n",
       "      <td>48582.896092</td>\n",
       "    </tr>\n",
       "  </tbody>\n",
       "</table>\n",
       "</div>"
      ],
      "text/plain": [
       "                title        salary\n",
       "0  Assistant Engineer  48564.434447\n",
       "1            Engineer  48535.336511\n",
       "2             Manager  51531.041667\n",
       "3     Senior Engineer  48506.799871\n",
       "4        Senior Staff  58550.172704\n",
       "5               Staff  58465.382850\n",
       "6    Technique Leader  48582.896092"
      ]
     },
     "execution_count": 29,
     "metadata": {},
     "output_type": "execute_result"
    }
   ],
   "source": [
    "avg_sal_by_ttl = df[['title', 'salary']].groupby('title').mean()\n",
    "avg_sal_by_ttl.reset_index(inplace=True)\n",
    "avg_sal_by_ttl"
   ]
  },
  {
   "cell_type": "code",
   "execution_count": 50,
   "id": "1b44fd7b",
   "metadata": {},
   "outputs": [
    {
     "data": {
      "image/png": "[encoded data removed]",
      "text/plain": [
       "<Figure size 432x288 with 1 Axes>"
      ]
     },
     "metadata": {
      "needs_background": "light"
     },
     "output_type": "display_data"
    }
   ],
   "source": [
    "plt.bar(\n",
    "    x = avg_sal_by_ttl['title'],\n",
    "    height = avg_sal_by_ttl['salary']\n",
    ")\n",
    "\n",
    "plt.title(\"Average Salary by Title\")\n",
    "plt.xlabel('Title')\n",
    "plt.ylabel('Average Salary')\n",
    "plt.xticks(rotation = 90, ha = 'right', wrap = True)\n",
    "plt.tight_layout()\n",
    "plt.show()"
   ]
  }
 ],
 "metadata": {
  "kernelspec": {
   "display_name": "PythonData",
   "language": "python",
   "name": "pythondata"
  },
  "language_info": {
   "codemirror_mode": {
    "name": "ipython",
    "version": 3
   },
   "file_extension": ".py",
   "mimetype": "text/x-python",
   "name": "python",
   "nbconvert_exporter": "python",
   "pygments_lexer": "ipython3",
   "version": "3.9.7"
  }
 },
 "nbformat": 4,
 "nbformat_minor": 5
}
